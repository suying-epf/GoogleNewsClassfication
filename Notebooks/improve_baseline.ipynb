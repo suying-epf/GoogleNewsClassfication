{
 "cells": [
  {
   "cell_type": "code",
   "execution_count": 12,
   "metadata": {},
   "outputs": [],
   "source": [
    "import sys\n",
    "sys.path.append('/Users/suying/Desktop/googlenewsNLP/Scripts')\n",
    "from textclassfier import TextClassifier\n"
   ]
  },
  {
   "cell_type": "code",
   "execution_count": 13,
   "metadata": {},
   "outputs": [
    {
     "name": "stdout",
     "output_type": "stream",
     "text": [
      "['/Users/suying/Desktop/googlenewsNLP/Notebooks', '/Users/suying/.vscode/extensions/ms-toolsai.jupyter-2022.11.1003412109/pythonFiles', '/Users/suying/.vscode/extensions/ms-toolsai.jupyter-2022.11.1003412109/pythonFiles/lib/python', '/Users/suying/opt/anaconda3/lib/python39.zip', '/Users/suying/opt/anaconda3/lib/python3.9', '/Users/suying/opt/anaconda3/lib/python3.9/lib-dynload', '', '/Users/suying/opt/anaconda3/lib/python3.9/site-packages', '/Users/suying/opt/anaconda3/lib/python3.9/site-packages/aeosa', '/Users/suying/opt/anaconda3/lib/python3.9/site-packages/IPython/extensions', '/Users/suying/.ipython', '/Users/suying/Desktop/googlenewsNLP/Scripts/textclassfier.py', '/Users/suying/Desktop/googlenewsNLP/Scripts/textclassfier.py', '/Users/suying/Desktop/googlenewsNLP/Scripts', '/Users/suying/Desktop/googlenewsNLP/Scripts', '/Users/suying/Desktop/googlenewsNLP/Scripts', '/Users/suying/Desktop/googlenewsNLP/Scripts']\n",
      "/Users/suying/Desktop/googlenewsNLP/Scripts/textclassfier.py\n"
     ]
    }
   ],
   "source": [
    "import sys\n",
    "print(sys.path)  # 打印Python解释器搜索模块的路径\n",
    "\n",
    "import textclassfier  # 尝试导入模块\n",
    "print(textclassfier.__file__)  # 查看模块的文件路径\n"
   ]
  },
  {
   "cell_type": "code",
   "execution_count": 14,
   "metadata": {},
   "outputs": [],
   "source": [
    "import pandas as pd\n",
    "import numpy as np\n",
    "import matplotlib.pyplot as plt\n",
    "import seaborn as sns\n",
    "\n",
    "\n",
    "from textclassfier import TextClassifier\n",
    "from sklearn.model_selection import train_test_split\n",
    "from sklearn.feature_extraction.text import TfidfVectorizer, CountVectorizer\n",
    "from sklearn.metrics import accuracy_score, make_scorer, f1_score\n",
    "from sklearn.model_selection import learning_curve\n",
    "\n",
    "from sklearn.model_selection import GridSearchCV\n",
    "from sklearn.pipeline import Pipeline\n",
    "from sklearn.linear_model import LogisticRegression\n",
    "from sklearn.tree import DecisionTreeClassifier\n",
    "from sklearn.ensemble import RandomForestClassifier\n",
    "from sklearn.neighbors import KNeighborsClassifier\n",
    "from sklearn.naive_bayes import MultinomialNB\n",
    "from sklearn.linear_model import RidgeClassifier\n",
    "from sklearn.utils import class_weight"
   ]
  },
  {
   "cell_type": "code",
   "execution_count": 15,
   "metadata": {},
   "outputs": [],
   "source": [
    "df = pd.read_csv('../data/clean_data.csv')"
   ]
  },
  {
   "cell_type": "code",
   "execution_count": 16,
   "metadata": {},
   "outputs": [
    {
     "data": {
      "text/html": [
       "<div>\n",
       "<style scoped>\n",
       "    .dataframe tbody tr th:only-of-type {\n",
       "        vertical-align: middle;\n",
       "    }\n",
       "\n",
       "    .dataframe tbody tr th {\n",
       "        vertical-align: top;\n",
       "    }\n",
       "\n",
       "    .dataframe thead th {\n",
       "        text-align: right;\n",
       "    }\n",
       "</style>\n",
       "<table border=\"1\" class=\"dataframe\">\n",
       "  <thead>\n",
       "    <tr style=\"text-align: right;\">\n",
       "      <th></th>\n",
       "      <th>Title</th>\n",
       "      <th>Category</th>\n",
       "    </tr>\n",
       "  </thead>\n",
       "  <tbody>\n",
       "    <tr>\n",
       "      <th>0</th>\n",
       "      <td>chainlink link falter hedera hbar wobbl yet vc...</td>\n",
       "      <td>Business</td>\n",
       "    </tr>\n",
       "    <tr>\n",
       "      <th>1</th>\n",
       "      <td>fund punish nvidia share stun 230 ralli</td>\n",
       "      <td>Business</td>\n",
       "    </tr>\n",
       "    <tr>\n",
       "      <th>2</th>\n",
       "      <td>crude oil price stall hedg fund sell kemp</td>\n",
       "      <td>Business</td>\n",
       "    </tr>\n",
       "    <tr>\n",
       "      <th>3</th>\n",
       "      <td>grayscal bitcoin win still half battl</td>\n",
       "      <td>Business</td>\n",
       "    </tr>\n",
       "    <tr>\n",
       "      <th>4</th>\n",
       "      <td>im home shop editor cantmiss labor day deal im...</td>\n",
       "      <td>Business</td>\n",
       "    </tr>\n",
       "  </tbody>\n",
       "</table>\n",
       "</div>"
      ],
      "text/plain": [
       "                                               Title  Category\n",
       "0  chainlink link falter hedera hbar wobbl yet vc...  Business\n",
       "1            fund punish nvidia share stun 230 ralli  Business\n",
       "2          crude oil price stall hedg fund sell kemp  Business\n",
       "3              grayscal bitcoin win still half battl  Business\n",
       "4  im home shop editor cantmiss labor day deal im...  Business"
      ]
     },
     "execution_count": 16,
     "metadata": {},
     "output_type": "execute_result"
    }
   ],
   "source": [
    "df.head()"
   ]
  },
  {
   "attachments": {},
   "cell_type": "markdown",
   "metadata": {},
   "source": [
    "# Improve model\n",
    "First, we want to try different models to get an overview of their results, and then understand which models we can use. We will cycle through 5 models with 2 different vectorizers and print classifications to find the model that works best"
   ]
  },
  {
   "attachments": {},
   "cell_type": "markdown",
   "metadata": {},
   "source": [
    "## CountVectorizer"
   ]
  },
  {
   "cell_type": "code",
   "execution_count": 17,
   "metadata": {},
   "outputs": [
    {
     "name": "stdout",
     "output_type": "stream",
     "text": [
      "Evaluating model: Logistic Regression\n",
      "------------------------------\n"
     ]
    },
    {
     "name": "stderr",
     "output_type": "stream",
     "text": [
      "/Users/suying/opt/anaconda3/lib/python3.9/site-packages/sklearn/linear_model/_logistic.py:814: ConvergenceWarning: lbfgs failed to converge (status=1):\n",
      "STOP: TOTAL NO. of ITERATIONS REACHED LIMIT.\n",
      "\n",
      "Increase the number of iterations (max_iter) or scale the data as shown in:\n",
      "    https://scikit-learn.org/stable/modules/preprocessing.html\n",
      "Please also refer to the documentation for alternative solver options:\n",
      "    https://scikit-learn.org/stable/modules/linear_model.html#logistic-regression\n",
      "  n_iter_i = _check_optimize_result(\n"
     ]
    },
    {
     "name": "stdout",
     "output_type": "stream",
     "text": [
      "f1_score:0.848866564614247\n",
      "Accuracy: 0.8458239937627912\n",
      "               precision    recall  f1-score   support\n",
      "\n",
      "     Business       0.83      0.82      0.83      1380\n",
      "Entertainment       0.89      0.89      0.89      1384\n",
      "    Headlines       0.69      0.66      0.68      1420\n",
      "       Health       0.90      0.91      0.90       943\n",
      "      Science       0.92      0.90      0.91       902\n",
      "       Sports       0.93      0.94      0.93      1592\n",
      "   Technology       0.93      0.92      0.93      1351\n",
      "    Worldwide       0.70      0.75      0.72      1289\n",
      "\n",
      "     accuracy                           0.85     10261\n",
      "    macro avg       0.85      0.85      0.85     10261\n",
      " weighted avg       0.85      0.85      0.85     10261\n",
      "\n",
      "\n",
      "\n",
      "\n",
      "Evaluating model: Decision Tree\n",
      "------------------------------\n",
      "f1_score:0.7555559126364552\n",
      "Accuracy: 0.7507065588149303\n",
      "               precision    recall  f1-score   support\n",
      "\n",
      "     Business       0.78      0.74      0.76      1380\n",
      "Entertainment       0.79      0.79      0.79      1384\n",
      "    Headlines       0.55      0.60      0.57      1420\n",
      "       Health       0.82      0.86      0.84       943\n",
      "      Science       0.82      0.86      0.84       902\n",
      "       Sports       0.82      0.84      0.83      1592\n",
      "   Technology       0.88      0.85      0.87      1351\n",
      "    Worldwide       0.57      0.53      0.55      1289\n",
      "\n",
      "     accuracy                           0.75     10261\n",
      "    macro avg       0.76      0.76      0.76     10261\n",
      " weighted avg       0.75      0.75      0.75     10261\n",
      "\n",
      "\n",
      "\n",
      "\n",
      "Evaluating model: Random Forest\n",
      "------------------------------\n",
      "f1_score:0.8069551098346206\n",
      "Accuracy: 0.8050872234674983\n",
      "               precision    recall  f1-score   support\n",
      "\n",
      "     Business       0.82      0.78      0.80      1380\n",
      "Entertainment       0.85      0.84      0.85      1384\n",
      "    Headlines       0.65      0.60      0.62      1420\n",
      "       Health       0.83      0.90      0.87       943\n",
      "      Science       0.85      0.90      0.87       902\n",
      "       Sports       0.85      0.92      0.89      1592\n",
      "   Technology       0.91      0.89      0.90      1351\n",
      "    Worldwide       0.66      0.66      0.66      1289\n",
      "\n",
      "     accuracy                           0.81     10261\n",
      "    macro avg       0.80      0.81      0.81     10261\n",
      " weighted avg       0.80      0.81      0.80     10261\n",
      "\n",
      "\n",
      "\n",
      "\n",
      "Evaluating model: K-Nearest Neighbors\n",
      "------------------------------\n"
     ]
    },
    {
     "name": "stderr",
     "output_type": "stream",
     "text": [
      "/Users/suying/opt/anaconda3/lib/python3.9/site-packages/sklearn/neighbors/_classification.py:228: FutureWarning: Unlike other reduction functions (e.g. `skew`, `kurtosis`), the default behavior of `mode` typically preserves the axis it acts along. In SciPy 1.11.0, this behavior will change: the default value of `keepdims` will become False, the `axis` over which the statistic is taken will be eliminated, and the value None will no longer be accepted. Set `keepdims` to True or False to avoid this warning.\n",
      "  mode, _ = stats.mode(_y[neigh_ind, k], axis=1)\n"
     ]
    },
    {
     "name": "stdout",
     "output_type": "stream",
     "text": [
      "f1_score:0.6216505572654168\n",
      "Accuracy: 0.6098820777701979\n",
      "               precision    recall  f1-score   support\n",
      "\n",
      "     Business       0.47      0.65      0.54      1380\n",
      "Entertainment       0.79      0.65      0.71      1384\n",
      "    Headlines       0.47      0.43      0.45      1420\n",
      "       Health       0.68      0.68      0.68       943\n",
      "      Science       0.91      0.62      0.74       902\n",
      "       Sports       0.50      0.75      0.60      1592\n",
      "   Technology       0.80      0.68      0.74      1351\n",
      "    Worldwide       0.66      0.41      0.51      1289\n",
      "\n",
      "     accuracy                           0.61     10261\n",
      "    macro avg       0.66      0.61      0.62     10261\n",
      " weighted avg       0.64      0.61      0.61     10261\n",
      "\n",
      "\n",
      "\n",
      "\n",
      "Evaluating model: Naive Bayes\n",
      "------------------------------\n",
      "f1_score:0.8432736438891398\n",
      "Accuracy: 0.8428028457265374\n",
      "               precision    recall  f1-score   support\n",
      "\n",
      "     Business       0.83      0.80      0.81      1380\n",
      "Entertainment       0.87      0.88      0.87      1384\n",
      "    Headlines       0.75      0.64      0.69      1420\n",
      "       Health       0.86      0.92      0.89       943\n",
      "      Science       0.86      0.91      0.89       902\n",
      "       Sports       0.92      0.93      0.93      1592\n",
      "   Technology       0.91      0.92      0.91      1351\n",
      "    Worldwide       0.73      0.78      0.75      1289\n",
      "\n",
      "     accuracy                           0.84     10261\n",
      "    macro avg       0.84      0.85      0.84     10261\n",
      " weighted avg       0.84      0.84      0.84     10261\n",
      "\n",
      "\n",
      "\n",
      "\n",
      "Evaluating model: Linear_model\n",
      "------------------------------\n",
      "f1_score:0.849520867751836\n",
      "Accuracy: 0.8483578598577137\n",
      "               precision    recall  f1-score   support\n",
      "\n",
      "     Business       0.82      0.81      0.82      1380\n",
      "Entertainment       0.89      0.89      0.89      1384\n",
      "    Headlines       0.74      0.65      0.69      1420\n",
      "       Health       0.88      0.91      0.89       943\n",
      "      Science       0.90      0.90      0.90       902\n",
      "       Sports       0.92      0.95      0.94      1592\n",
      "   Technology       0.93      0.92      0.92      1351\n",
      "    Worldwide       0.72      0.77      0.75      1289\n",
      "\n",
      "     accuracy                           0.85     10261\n",
      "    macro avg       0.85      0.85      0.85     10261\n",
      " weighted avg       0.85      0.85      0.85     10261\n",
      "\n",
      "\n",
      "\n",
      "\n"
     ]
    }
   ],
   "source": [
    "X = df['Title']\n",
    "y = df['Category']\n",
    "X_train, X_test, y_train, y_test = train_test_split(X, y, test_size=0.2, random_state=42)\n",
    "\n",
    "# Liste des modèles à évaluer\n",
    "models = {\n",
    "    \"Logistic Regression\": LogisticRegression(),\n",
    "    \"Decision Tree\": DecisionTreeClassifier(),\n",
    "    \"Random Forest\": RandomForestClassifier(),\n",
    "    \"K-Nearest Neighbors\": KNeighborsClassifier(),\n",
    "    \"Naive Bayes\": MultinomialNB(),\n",
    "    \"Linear_model\": RidgeClassifier()\n",
    "}\n",
    "\n",
    "for name, model in models.items():\n",
    "    print(f\"Evaluating model: {name}\\n\" + \"-\" * 30)\n",
    "    \n",
    "    classifier = TextClassifier(model=model, vectorizer= CountVectorizer(max_features=5000, stop_words='english'))\n",
    "    classifier.train(X_train, y_train)\n",
    "    classifier.evaluate(X_test, y_test)\n",
    "    \n",
    "    print(\"\\n\\n\")"
   ]
  },
  {
   "attachments": {},
   "cell_type": "markdown",
   "metadata": {},
   "source": [
    "### Observation\n",
    "According to the results. We can clearly say that in CountVectorizer, the precision of Linear_model and Logistic Regression are the best result. However, the actual improvement is still too small, and I will look at TF-IDF for all models next"
   ]
  },
  {
   "attachments": {},
   "cell_type": "markdown",
   "metadata": {},
   "source": [
    "## TF-IDF"
   ]
  },
  {
   "cell_type": "code",
   "execution_count": 18,
   "metadata": {},
   "outputs": [
    {
     "name": "stdout",
     "output_type": "stream",
     "text": [
      "Evaluating model: Logistic Regression\n",
      "------------------------------\n"
     ]
    },
    {
     "name": "stderr",
     "output_type": "stream",
     "text": [
      "/Users/suying/opt/anaconda3/lib/python3.9/site-packages/sklearn/linear_model/_logistic.py:814: ConvergenceWarning: lbfgs failed to converge (status=1):\n",
      "STOP: TOTAL NO. of ITERATIONS REACHED LIMIT.\n",
      "\n",
      "Increase the number of iterations (max_iter) or scale the data as shown in:\n",
      "    https://scikit-learn.org/stable/modules/preprocessing.html\n",
      "Please also refer to the documentation for alternative solver options:\n",
      "    https://scikit-learn.org/stable/modules/linear_model.html#logistic-regression\n",
      "  n_iter_i = _check_optimize_result(\n"
     ]
    },
    {
     "name": "stdout",
     "output_type": "stream",
     "text": [
      "f1_score:0.8495372179695886\n",
      "Accuracy: 0.8472858395867849\n",
      "               precision    recall  f1-score   support\n",
      "\n",
      "     Business       0.83      0.82      0.82      1380\n",
      "Entertainment       0.87      0.90      0.88      1384\n",
      "    Headlines       0.72      0.67      0.69      1420\n",
      "       Health       0.89      0.90      0.90       943\n",
      "      Science       0.92      0.89      0.90       902\n",
      "       Sports       0.92      0.94      0.93      1592\n",
      "   Technology       0.93      0.91      0.92      1351\n",
      "    Worldwide       0.72      0.77      0.75      1289\n",
      "\n",
      "     accuracy                           0.85     10261\n",
      "    macro avg       0.85      0.85      0.85     10261\n",
      " weighted avg       0.85      0.85      0.85     10261\n",
      "\n",
      "\n",
      "\n",
      "\n",
      "Evaluating model: Decision Tree\n",
      "------------------------------\n",
      "f1_score:0.7506630617110668\n",
      "Accuracy: 0.7441769808010915\n",
      "               precision    recall  f1-score   support\n",
      "\n",
      "     Business       0.76      0.73      0.74      1380\n",
      "Entertainment       0.78      0.78      0.78      1384\n",
      "    Headlines       0.54      0.57      0.56      1420\n",
      "       Health       0.83      0.84      0.84       943\n",
      "      Science       0.86      0.85      0.85       902\n",
      "       Sports       0.79      0.83      0.81      1592\n",
      "   Technology       0.87      0.85      0.86      1351\n",
      "    Worldwide       0.58      0.54      0.56      1289\n",
      "\n",
      "     accuracy                           0.74     10261\n",
      "    macro avg       0.75      0.75      0.75     10261\n",
      " weighted avg       0.74      0.74      0.74     10261\n",
      "\n",
      "\n",
      "\n",
      "\n",
      "Evaluating model: Random Forest\n",
      "------------------------------\n",
      "f1_score:0.8071517472480362\n",
      "Accuracy: 0.804210115973102\n",
      "               precision    recall  f1-score   support\n",
      "\n",
      "     Business       0.82      0.77      0.80      1380\n",
      "Entertainment       0.84      0.85      0.85      1384\n",
      "    Headlines       0.64      0.60      0.62      1420\n",
      "       Health       0.85      0.90      0.87       943\n",
      "      Science       0.87      0.88      0.88       902\n",
      "       Sports       0.85      0.92      0.88      1592\n",
      "   Technology       0.91      0.90      0.90      1351\n",
      "    Worldwide       0.66      0.66      0.66      1289\n",
      "\n",
      "     accuracy                           0.80     10261\n",
      "    macro avg       0.81      0.81      0.81     10261\n",
      " weighted avg       0.80      0.80      0.80     10261\n",
      "\n",
      "\n",
      "\n",
      "\n",
      "Evaluating model: K-Nearest Neighbors\n",
      "------------------------------\n"
     ]
    },
    {
     "name": "stderr",
     "output_type": "stream",
     "text": [
      "/Users/suying/opt/anaconda3/lib/python3.9/site-packages/sklearn/neighbors/_classification.py:228: FutureWarning: Unlike other reduction functions (e.g. `skew`, `kurtosis`), the default behavior of `mode` typically preserves the axis it acts along. In SciPy 1.11.0, this behavior will change: the default value of `keepdims` will become False, the `axis` over which the statistic is taken will be eliminated, and the value None will no longer be accepted. Set `keepdims` to True or False to avoid this warning.\n",
      "  mode, _ = stats.mode(_y[neigh_ind, k], axis=1)\n"
     ]
    },
    {
     "name": "stdout",
     "output_type": "stream",
     "text": [
      "f1_score:0.5654985218510128\n",
      "Accuracy: 0.5492642042685898\n",
      "               precision    recall  f1-score   support\n",
      "\n",
      "     Business       0.40      0.60      0.48      1380\n",
      "Entertainment       0.87      0.61      0.71      1384\n",
      "    Headlines       0.43      0.44      0.43      1420\n",
      "       Health       0.65      0.56      0.60       943\n",
      "      Science       0.96      0.55      0.70       902\n",
      "       Sports       0.40      0.74      0.52      1592\n",
      "   Technology       0.84      0.58      0.69      1351\n",
      "    Worldwide       0.66      0.28      0.39      1289\n",
      "\n",
      "     accuracy                           0.55     10261\n",
      "    macro avg       0.65      0.54      0.57     10261\n",
      " weighted avg       0.63      0.55      0.56     10261\n",
      "\n",
      "\n",
      "\n",
      "\n",
      "Evaluating model: Naive Bayes\n",
      "------------------------------\n",
      "f1_score:0.843961537769183\n",
      "Accuracy: 0.8429977585030699\n",
      "               precision    recall  f1-score   support\n",
      "\n",
      "     Business       0.83      0.79      0.81      1380\n",
      "Entertainment       0.87      0.89      0.88      1384\n",
      "    Headlines       0.74      0.65      0.69      1420\n",
      "       Health       0.87      0.91      0.89       943\n",
      "      Science       0.88      0.89      0.89       902\n",
      "       Sports       0.92      0.94      0.93      1592\n",
      "   Technology       0.91      0.92      0.91      1351\n",
      "    Worldwide       0.72      0.78      0.75      1289\n",
      "\n",
      "     accuracy                           0.84     10261\n",
      "    macro avg       0.84      0.85      0.84     10261\n",
      " weighted avg       0.84      0.84      0.84     10261\n",
      "\n",
      "\n",
      "\n",
      "\n",
      "Evaluating model: Linear_model\n",
      "------------------------------\n",
      "f1_score:0.852194097350319\n",
      "Accuracy: 0.8510866387291687\n",
      "               precision    recall  f1-score   support\n",
      "\n",
      "     Business       0.83      0.81      0.82      1380\n",
      "Entertainment       0.88      0.90      0.89      1384\n",
      "    Headlines       0.75      0.65      0.69      1420\n",
      "       Health       0.88      0.92      0.90       943\n",
      "      Science       0.90      0.90      0.90       902\n",
      "       Sports       0.92      0.95      0.94      1592\n",
      "   Technology       0.93      0.92      0.92      1351\n",
      "    Worldwide       0.72      0.78      0.75      1289\n",
      "\n",
      "     accuracy                           0.85     10261\n",
      "    macro avg       0.85      0.85      0.85     10261\n",
      " weighted avg       0.85      0.85      0.85     10261\n",
      "\n",
      "\n",
      "\n",
      "\n"
     ]
    }
   ],
   "source": [
    "X = df['Title']\n",
    "y = df['Category']\n",
    "X_train, X_test, y_train, y_test = train_test_split(X, y, test_size=0.2, random_state=42)\n",
    "\n",
    "# Liste des modèles à évaluer\n",
    "models = {\n",
    "    \"Logistic Regression\": LogisticRegression(),\n",
    "    \"Decision Tree\": DecisionTreeClassifier(),\n",
    "    \"Random Forest\": RandomForestClassifier(),\n",
    "    \"K-Nearest Neighbors\": KNeighborsClassifier(),\n",
    "    \"Naive Bayes\": MultinomialNB(),\n",
    "    \"Linear_model\": RidgeClassifier()\n",
    "}\n",
    "\n",
    "\n",
    "for name, model in models.items():\n",
    "    print(f\"Evaluating model: {name}\\n\" + \"-\" * 30)\n",
    "    \n",
    "    classifier = TextClassifier(model=model, vectorizer = TfidfVectorizer(max_features=5000, stop_words='english'))\n",
    "    classifier.train(X_train, y_train)\n",
    "    classifier.evaluate(X_test, y_test)\n",
    "    \n",
    "    print(\"\\n\\n\")"
   ]
  },
  {
   "attachments": {},
   "cell_type": "markdown",
   "metadata": {},
   "source": [
    "### Observation\n",
    "According to the results. We can clearly say that in TF-IDF, the accuracy of logistic regression is the best result"
   ]
  },
  {
   "attachments": {},
   "cell_type": "markdown",
   "metadata": {},
   "source": [
    "Depending on the outcome of two different loops, we have two very close possibilities:\n",
    "- Logistic regression with TFIDF\n",
    "I'll focus on "
   ]
  },
  {
   "cell_type": "markdown",
   "metadata": {},
   "source": []
  },
  {
   "attachments": {},
   "cell_type": "markdown",
   "metadata": {},
   "source": [
    "## Class_weight"
   ]
  },
  {
   "cell_type": "code",
   "execution_count": 19,
   "metadata": {},
   "outputs": [
    {
     "name": "stdout",
     "output_type": "stream",
     "text": [
      "f1_score:0.852593754767466\n",
      "Accuracy: 0.8509891823409025\n",
      "               precision    recall  f1-score   support\n",
      "\n",
      "     Business       0.84      0.82      0.83      1380\n",
      "Entertainment       0.87      0.89      0.88      1384\n",
      "    Headlines       0.74      0.65      0.69      1420\n",
      "       Health       0.88      0.92      0.90       943\n",
      "      Science       0.88      0.93      0.91       902\n",
      "       Sports       0.93      0.94      0.93      1592\n",
      "   Technology       0.93      0.91      0.92      1351\n",
      "    Worldwide       0.72      0.79      0.75      1289\n",
      "\n",
      "     accuracy                           0.85     10261\n",
      "    macro avg       0.85      0.86      0.85     10261\n",
      " weighted avg       0.85      0.85      0.85     10261\n",
      "\n"
     ]
    }
   ],
   "source": [
    "X = df['Title']\n",
    "y = df['Category']\n",
    "X_train, X_test, y_train, y_test = train_test_split(X, y, test_size=0.2, random_state=42)\n",
    "\n",
    "classifier = TextClassifier(model=LogisticRegression(max_iter=1000, class_weight='balanced'), vectorizer=TfidfVectorizer(max_features=5000, stop_words='english'))\n",
    "classifier.train(X_train, y_train)\n",
    "classifier.evaluate(X_test, y_test)"
   ]
  },
  {
   "attachments": {},
   "cell_type": "markdown",
   "metadata": {},
   "source": [
    "### Observation\n",
    "\n",
    "After our first experiment, we can see that using class weights has a good effect on class 2 recalls. Even if the accuracy is reduced, it is still a good choice"
   ]
  },
  {
   "attachments": {},
   "cell_type": "markdown",
   "metadata": {},
   "source": [
    "## Param_grid"
   ]
  },
  {
   "cell_type": "code",
   "execution_count": 20,
   "metadata": {},
   "outputs": [
    {
     "name": "stderr",
     "output_type": "stream",
     "text": [
      "/Users/suying/opt/anaconda3/lib/python3.9/site-packages/sklearn/model_selection/_validation.py:372: FitFailedWarning: \n",
      "30 fits failed out of a total of 60.\n",
      "The score on these train-test partitions for these parameters will be set to nan.\n",
      "If these failures are not expected, you can try to debug them by setting error_score='raise'.\n",
      "\n",
      "Below are more details about the failures:\n",
      "--------------------------------------------------------------------------------\n",
      "30 fits failed with the following error:\n",
      "Traceback (most recent call last):\n",
      "  File \"/Users/suying/opt/anaconda3/lib/python3.9/site-packages/sklearn/model_selection/_validation.py\", line 680, in _fit_and_score\n",
      "    estimator.fit(X_train, y_train, **fit_params)\n",
      "  File \"/Users/suying/opt/anaconda3/lib/python3.9/site-packages/sklearn/linear_model/_logistic.py\", line 1461, in fit\n",
      "    solver = _check_solver(self.solver, self.penalty, self.dual)\n",
      "  File \"/Users/suying/opt/anaconda3/lib/python3.9/site-packages/sklearn/linear_model/_logistic.py\", line 447, in _check_solver\n",
      "    raise ValueError(\n",
      "ValueError: Solver lbfgs supports only 'l2' or 'none' penalties, got l1 penalty.\n",
      "\n",
      "  warnings.warn(some_fits_failed_message, FitFailedWarning)\n",
      "/Users/suying/opt/anaconda3/lib/python3.9/site-packages/sklearn/model_selection/_search.py:969: UserWarning: One or more of the test scores are non-finite: [       nan 0.76701349        nan 0.77471316        nan 0.8112132\n",
      "        nan 0.84622695        nan 0.84169483        nan 0.81579399]\n",
      "  warnings.warn(\n"
     ]
    },
    {
     "name": "stdout",
     "output_type": "stream",
     "text": [
      "Best Parameters:  {'C': 1, 'penalty': 'l2'}\n",
      "Best Accuracy:  0.846226948765642\n",
      "f1_score:0.852593754767466\n",
      "Accuracy: 0.8509891823409025\n",
      "               precision    recall  f1-score   support\n",
      "\n",
      "     Business       0.84      0.82      0.83      1380\n",
      "Entertainment       0.87      0.89      0.88      1384\n",
      "    Headlines       0.74      0.65      0.69      1420\n",
      "       Health       0.88      0.92      0.90       943\n",
      "      Science       0.88      0.93      0.91       902\n",
      "       Sports       0.93      0.94      0.93      1592\n",
      "   Technology       0.93      0.91      0.92      1351\n",
      "    Worldwide       0.72      0.79      0.75      1289\n",
      "\n",
      "     accuracy                           0.85     10261\n",
      "    macro avg       0.85      0.86      0.85     10261\n",
      " weighted avg       0.85      0.85      0.85     10261\n",
      "\n"
     ]
    }
   ],
   "source": [
    "text_classifier = TextClassifier(LogisticRegression(max_iter=1000, class_weight='balanced'), vectorizer=TfidfVectorizer(max_features=5000, stop_words='english'))\n",
    "\n",
    "text_classifier.train(X_train, y_train)\n",
    "\n",
    "param_grid = {\n",
    "    'C': [0.001, 0.01, 0.1, 1, 10, 100],  \n",
    "    'penalty': ['l1', 'l2'] \n",
    "}\n",
    "\n",
    "grid_search = GridSearchCV(text_classifier.model, param_grid, cv=5, scoring='accuracy')\n",
    "\n",
    "grid_search.fit(text_classifier.X_train_tf, y_train)\n",
    "\n",
    "print(\"Best Parameters: \", grid_search.best_params_)\n",
    "print(\"Best Accuracy: \", grid_search.best_score_)\n",
    "\n",
    "text_classifier.model = grid_search.best_estimator_\n",
    "text_classifier.evaluate(X_test, y_test)"
   ]
  },
  {
   "attachments": {},
   "cell_type": "markdown",
   "metadata": {},
   "source": [
    "### Observation\n",
    "From the results, it can be seen that the best result is the default result before, and there is no change in the result, so I will draw a learning curve to observe"
   ]
  },
  {
   "attachments": {},
   "cell_type": "markdown",
   "metadata": {},
   "source": [
    "## Learning Curve"
   ]
  },
  {
   "cell_type": "code",
   "execution_count": 21,
   "metadata": {},
   "outputs": [
    {
     "data": {
      "image/png": "[encoded data removed]",
      "text/plain": [
       "<Figure size 1000x600 with 1 Axes>"
      ]
     },
     "metadata": {},
     "output_type": "display_data"
    }
   ],
   "source": [
    "def plot_learning_curve(estimator, title, X, y, ylim=None, cv=None, n_jobs=None, train_sizes=np.linspace(0.1, 1.0, 10)):\n",
    "    plt.figure(figsize=(10, 6))\n",
    "    plt.title(title)\n",
    "    if ylim is not None:\n",
    "        plt.ylim(*ylim)\n",
    "    plt.xlabel(\"Training examples\")\n",
    "    plt.ylabel(\"Score\")\n",
    "    train_sizes, train_scores, test_scores = learning_curve(\n",
    "        estimator, X, y, cv=cv, n_jobs=n_jobs, train_sizes=train_sizes, scoring='accuracy')\n",
    "    train_scores_mean = np.mean(train_scores, axis=1)\n",
    "    train_scores_std = np.std(train_scores, axis=1)\n",
    "    test_scores_mean = np.mean(test_scores, axis=1)\n",
    "    test_scores_std = np.std(test_scores, axis=1)\n",
    "    plt.grid()\n",
    "\n",
    "    plt.fill_between(train_sizes, train_scores_mean - train_scores_std,\n",
    "                     train_scores_mean + train_scores_std, alpha=0.1,\n",
    "                     color=\"r\")\n",
    "    plt.fill_between(train_sizes, test_scores_mean - test_scores_std,\n",
    "                     test_scores_mean + test_scores_std, alpha=0.1, color=\"g\")\n",
    "    plt.plot(train_sizes, train_scores_mean, 'o-', color=\"r\",\n",
    "             label=\"Training score\")\n",
    "    plt.plot(train_sizes, test_scores_mean, 'o-', color=\"g\",\n",
    "             label=\"Cross-validation score\")\n",
    "\n",
    "    plt.legend(loc=\"best\")\n",
    "    return plt\n",
    "\n",
    "plot_learning_curve(text_classifier.model, \"Learning Curve\", text_classifier.X_train_tf, y_train, cv=5)\n",
    "plt.show()"
   ]
  },
  {
   "cell_type": "code",
   "execution_count": 22,
   "metadata": {},
   "outputs": [
    {
     "name": "stdout",
     "output_type": "stream",
     "text": [
      "f1_score:0.852593754767466\n",
      "Accuracy: 0.8509891823409025\n",
      "               precision    recall  f1-score   support\n",
      "\n",
      "     Business       0.84      0.82      0.83      1380\n",
      "Entertainment       0.87      0.89      0.88      1384\n",
      "    Headlines       0.74      0.65      0.69      1420\n",
      "       Health       0.88      0.92      0.90       943\n",
      "      Science       0.88      0.93      0.91       902\n",
      "       Sports       0.93      0.94      0.93      1592\n",
      "   Technology       0.93      0.91      0.92      1351\n",
      "    Worldwide       0.72      0.79      0.75      1289\n",
      "\n",
      "     accuracy                           0.85     10261\n",
      "    macro avg       0.85      0.86      0.85     10261\n",
      " weighted avg       0.85      0.85      0.85     10261\n",
      "\n"
     ]
    }
   ],
   "source": [
    "text_classifier = TextClassifier(LogisticRegression(max_iter=5000, class_weight='balanced'), vectorizer=TfidfVectorizer(max_features=5000, stop_words='english'))\n",
    "\n",
    "text_classifier.train(X_train, y_train)\n",
    "\n",
    "param_grid = {\n",
    "    'C': [ 1],  \n",
    "    'penalty': ['l2'] \n",
    "}\n",
    "\n",
    "grid_search = GridSearchCV(text_classifier.model, param_grid, cv=5, scoring='accuracy')\n",
    "\n",
    "grid_search.fit(text_classifier.X_train_tf, y_train)\n",
    "\n",
    "\n",
    "text_classifier.model = grid_search.best_estimator_\n",
    "text_classifier.evaluate(X_test, y_test)"
   ]
  },
  {
   "cell_type": "code",
   "execution_count": 23,
   "metadata": {},
   "outputs": [
    {
     "data": {
      "image/png": "[encoded data removed]",
      "text/plain": [
       "<Figure size 1000x600 with 1 Axes>"
      ]
     },
     "metadata": {},
     "output_type": "display_data"
    }
   ],
   "source": [
    "def plot_learning_curve(estimator, title, X, y, ylim=None, cv=None, n_jobs=None, train_sizes=np.linspace(0.1, 1.0, 5,10)):\n",
    "    plt.figure(figsize=(10, 6))\n",
    "    plt.title(title)\n",
    "    if ylim is not None:\n",
    "        plt.ylim(*ylim)\n",
    "    plt.xlabel(\"Training examples\")\n",
    "    plt.ylabel(\"Score\")\n",
    "    train_sizes, train_scores, test_scores = learning_curve(\n",
    "        estimator, X, y, cv=cv, n_jobs=n_jobs, train_sizes=train_sizes, scoring='accuracy')\n",
    "    train_scores_mean = np.mean(train_scores, axis=1)\n",
    "    train_scores_std = np.std(train_scores, axis=1)\n",
    "    test_scores_mean = np.mean(test_scores, axis=1)\n",
    "    test_scores_std = np.std(test_scores, axis=1)\n",
    "    plt.grid()\n",
    "\n",
    "    plt.fill_between(train_sizes, train_scores_mean - train_scores_std,\n",
    "                     train_scores_mean + train_scores_std, alpha=0.1,\n",
    "                     color=\"r\")\n",
    "    plt.fill_between(train_sizes, test_scores_mean - test_scores_std,\n",
    "                     test_scores_mean + test_scores_std, alpha=0.1, color=\"g\")\n",
    "    plt.plot(train_sizes, train_scores_mean, 'o-', color=\"r\",\n",
    "             label=\"Training score\")\n",
    "    plt.plot(train_sizes, test_scores_mean, 'o-', color=\"g\",\n",
    "             label=\"Cross-validation score\")\n",
    "\n",
    "    plt.legend(loc=\"best\")\n",
    "    return plt\n",
    "\n",
    "plot_learning_curve(text_classifier.model, \"Learning Curve\", text_classifier.X_train_tf, y_train, cv=5)\n",
    "plt.show()"
   ]
  },
  {
   "attachments": {},
   "cell_type": "markdown",
   "metadata": {},
   "source": [
    "### Observation\n",
    "The difference between these two curves is important. The results show that our model is obviously overfitting, and the amount of data reduces this problem. However, the improvement of the validation curve is very slow, and we can assume that the model can be improved by adding a lot of data, especially in class worldwide and headlines."
   ]
  }
 ],
 "metadata": {
  "kernelspec": {
   "display_name": "Python 3",
   "language": "python",
   "name": "python3"
  },
  "language_info": {
   "codemirror_mode": {
    "name": "ipython",
    "version": 3
   },
   "file_extension": ".py",
   "mimetype": "text/x-python",
   "name": "python",
   "nbconvert_exporter": "python",
   "pygments_lexer": "ipython3",
   "version": "3.9.13 (main, Aug 25 2022, 18:29:29) \n[Clang 12.0.0 ]"
  },
  "orig_nbformat": 4,
  "vscode": {
   "interpreter": {
    "hash": "0057a9cdf74f52461b0e989bfb37ce9967b95ad68ac65a63196c7dd8320cc858"
   }
  }
 },
 "nbformat": 4,
 "nbformat_minor": 2
}
