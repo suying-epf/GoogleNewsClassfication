{
 "cells": [
  {
   "cell_type": "code",
   "execution_count": 1,
   "metadata": {},
   "outputs": [],
   "source": [
    "import sys\n",
    "sys.path.append('../../GoogleNewsClassfication/')"
   ]
  },
  {
   "cell_type": "code",
   "execution_count": 8,
   "metadata": {},
   "outputs": [],
   "source": [
    "import pandas as pd\n",
    "import numpy as np\n",
    "import matplotlib.pyplot as plt\n",
    "import seaborn as sns\n",
    "\n",
    "\n",
    "from Scripts.textclassfier import TextClassifier\n",
    "from sklearn.model_selection import train_test_split\n",
    "from sklearn.feature_extraction.text import TfidfVectorizer, CountVectorizer\n",
    "from sklearn.metrics import accuracy_score, make_scorer, f1_score\n",
    "from sklearn.model_selection import learning_curve\n",
    "\n",
    "from sklearn.model_selection import GridSearchCV\n",
    "from sklearn.pipeline import Pipeline\n",
    "from sklearn.linear_model import LogisticRegression\n",
    "from sklearn.tree import DecisionTreeClassifier\n",
    "from sklearn.ensemble import RandomForestClassifier\n",
    "from sklearn.neighbors import KNeighborsClassifier\n",
    "from sklearn.naive_bayes import MultinomialNB\n",
    "from sklearn.linear_model import RidgeClassifier\n",
    "from sklearn.utils import class_weight"
   ]
  },
  {
   "cell_type": "code",
   "execution_count": 3,
   "metadata": {},
   "outputs": [],
   "source": [
    "df = pd.read_csv('../data/clean_data.csv')"
   ]
  },
  {
   "cell_type": "code",
   "execution_count": 4,
   "metadata": {},
   "outputs": [
    {
     "data": {
      "text/html": [
       "<div>\n",
       "<style scoped>\n",
       "    .dataframe tbody tr th:only-of-type {\n",
       "        vertical-align: middle;\n",
       "    }\n",
       "\n",
       "    .dataframe tbody tr th {\n",
       "        vertical-align: top;\n",
       "    }\n",
       "\n",
       "    .dataframe thead th {\n",
       "        text-align: right;\n",
       "    }\n",
       "</style>\n",
       "<table border=\"1\" class=\"dataframe\">\n",
       "  <thead>\n",
       "    <tr style=\"text-align: right;\">\n",
       "      <th></th>\n",
       "      <th>Title</th>\n",
       "      <th>Category</th>\n",
       "    </tr>\n",
       "  </thead>\n",
       "  <tbody>\n",
       "    <tr>\n",
       "      <th>0</th>\n",
       "      <td>chainlink link falter hedera hbar wobbl yet vc...</td>\n",
       "      <td>Business</td>\n",
       "    </tr>\n",
       "    <tr>\n",
       "      <th>1</th>\n",
       "      <td>fund punish own nvidia share stun 230 ralli</td>\n",
       "      <td>Business</td>\n",
       "    </tr>\n",
       "    <tr>\n",
       "      <th>2</th>\n",
       "      <td>crude oil price stall hedg fund sell kemp</td>\n",
       "      <td>Business</td>\n",
       "    </tr>\n",
       "    <tr>\n",
       "      <th>3</th>\n",
       "      <td>grayscal bitcoin win still half battl</td>\n",
       "      <td>Business</td>\n",
       "    </tr>\n",
       "    <tr>\n",
       "      <th>4</th>\n",
       "      <td>im home shop editor cantmiss labor day deal im...</td>\n",
       "      <td>Business</td>\n",
       "    </tr>\n",
       "  </tbody>\n",
       "</table>\n",
       "</div>"
      ],
      "text/plain": [
       "                                               Title  Category\n",
       "0  chainlink link falter hedera hbar wobbl yet vc...  Business\n",
       "1        fund punish own nvidia share stun 230 ralli  Business\n",
       "2          crude oil price stall hedg fund sell kemp  Business\n",
       "3              grayscal bitcoin win still half battl  Business\n",
       "4  im home shop editor cantmiss labor day deal im...  Business"
      ]
     },
     "execution_count": 4,
     "metadata": {},
     "output_type": "execute_result"
    }
   ],
   "source": [
    "df.head()"
   ]
  },
  {
   "attachments": {},
   "cell_type": "markdown",
   "metadata": {},
   "source": [
    "# Improve model\n",
    "First, we want to try different models to get an overview of their results, and then understand which models we can use. We will cycle through 5 models with 2 different vectorizers and print classifications to find the model that works best"
   ]
  },
  {
   "attachments": {},
   "cell_type": "markdown",
   "metadata": {},
   "source": [
    "## CountVectorizer"
   ]
  },
  {
   "cell_type": "code",
   "execution_count": 9,
   "metadata": {},
   "outputs": [
    {
     "name": "stdout",
     "output_type": "stream",
     "text": [
      "Evaluating model: Logistic Regression\n",
      "------------------------------\n"
     ]
    },
    {
     "name": "stderr",
     "output_type": "stream",
     "text": [
      "/Users/suying/miniconda3/envs/tensorflow/lib/python3.9/site-packages/sklearn/linear_model/_logistic.py:460: ConvergenceWarning: lbfgs failed to converge (status=1):\n",
      "STOP: TOTAL NO. of ITERATIONS REACHED LIMIT.\n",
      "\n",
      "Increase the number of iterations (max_iter) or scale the data as shown in:\n",
      "    https://scikit-learn.org/stable/modules/preprocessing.html\n",
      "Please also refer to the documentation for alternative solver options:\n",
      "    https://scikit-learn.org/stable/modules/linear_model.html#logistic-regression\n",
      "  n_iter_i = _check_optimize_result(\n"
     ]
    },
    {
     "name": "stdout",
     "output_type": "stream",
     "text": [
      "Accuracy: 0.8446545171035962\n",
      "               precision    recall  f1-score   support\n",
      "\n",
      "     Business       0.84      0.82      0.83      1380\n",
      "Entertainment       0.88      0.90      0.89      1384\n",
      "    Headlines       0.69      0.65      0.67      1420\n",
      "       Health       0.90      0.91      0.90       943\n",
      "      Science       0.92      0.90      0.91       902\n",
      "       Sports       0.93      0.93      0.93      1592\n",
      "   Technology       0.93      0.92      0.93      1351\n",
      "    Worldwide       0.70      0.75      0.72      1289\n",
      "\n",
      "     accuracy                           0.84     10261\n",
      "    macro avg       0.85      0.85      0.85     10261\n",
      " weighted avg       0.84      0.84      0.84     10261\n",
      "\n",
      "\n",
      "\n",
      "\n",
      "Evaluating model: Decision Tree\n",
      "------------------------------\n",
      "Accuracy: 0.749829451320534\n",
      "               precision    recall  f1-score   support\n",
      "\n",
      "     Business       0.78      0.74      0.76      1380\n",
      "Entertainment       0.79      0.80      0.79      1384\n",
      "    Headlines       0.55      0.58      0.57      1420\n",
      "       Health       0.81      0.86      0.83       943\n",
      "      Science       0.82      0.84      0.83       902\n",
      "       Sports       0.81      0.84      0.83      1592\n",
      "   Technology       0.87      0.84      0.86      1351\n",
      "    Worldwide       0.59      0.55      0.57      1289\n",
      "\n",
      "     accuracy                           0.75     10261\n",
      "    macro avg       0.75      0.76      0.75     10261\n",
      " weighted avg       0.75      0.75      0.75     10261\n",
      "\n",
      "\n",
      "\n",
      "\n",
      "Evaluating model: Random Forest\n",
      "------------------------------\n",
      "Accuracy: 0.8033330084787058\n",
      "               precision    recall  f1-score   support\n",
      "\n",
      "     Business       0.82      0.78      0.80      1380\n",
      "Entertainment       0.85      0.84      0.85      1384\n",
      "    Headlines       0.65      0.60      0.62      1420\n",
      "       Health       0.83      0.90      0.87       943\n",
      "      Science       0.85      0.88      0.87       902\n",
      "       Sports       0.85      0.92      0.88      1592\n",
      "   Technology       0.91      0.89      0.90      1351\n",
      "    Worldwide       0.66      0.66      0.66      1289\n",
      "\n",
      "     accuracy                           0.80     10261\n",
      "    macro avg       0.80      0.81      0.81     10261\n",
      " weighted avg       0.80      0.80      0.80     10261\n",
      "\n",
      "\n",
      "\n",
      "\n",
      "Evaluating model: K-Nearest Neighbors\n",
      "------------------------------\n",
      "Accuracy: 0.6020855667088978\n",
      "               precision    recall  f1-score   support\n",
      "\n",
      "     Business       0.46      0.65      0.54      1380\n",
      "Entertainment       0.79      0.62      0.70      1384\n",
      "    Headlines       0.48      0.42      0.45      1420\n",
      "       Health       0.66      0.66      0.66       943\n",
      "      Science       0.88      0.62      0.73       902\n",
      "       Sports       0.50      0.76      0.60      1592\n",
      "   Technology       0.81      0.67      0.73      1351\n",
      "    Worldwide       0.64      0.40      0.49      1289\n",
      "\n",
      "     accuracy                           0.60     10261\n",
      "    macro avg       0.65      0.60      0.61     10261\n",
      " weighted avg       0.64      0.60      0.60     10261\n",
      "\n",
      "\n",
      "\n",
      "\n",
      "Evaluating model: Naive Bayes\n",
      "------------------------------\n",
      "Accuracy: 0.8409511743494786\n",
      "               precision    recall  f1-score   support\n",
      "\n",
      "     Business       0.83      0.79      0.81      1380\n",
      "Entertainment       0.86      0.88      0.87      1384\n",
      "    Headlines       0.75      0.63      0.69      1420\n",
      "       Health       0.86      0.91      0.88       943\n",
      "      Science       0.86      0.91      0.89       902\n",
      "       Sports       0.92      0.93      0.93      1592\n",
      "   Technology       0.91      0.92      0.91      1351\n",
      "    Worldwide       0.73      0.78      0.75      1289\n",
      "\n",
      "     accuracy                           0.84     10261\n",
      "    macro avg       0.84      0.85      0.84     10261\n",
      " weighted avg       0.84      0.84      0.84     10261\n",
      "\n",
      "\n",
      "\n",
      "\n",
      "Evaluating model: Linear_model\n",
      "------------------------------\n",
      "Accuracy: 0.8477731215281161\n",
      "               precision    recall  f1-score   support\n",
      "\n",
      "     Business       0.83      0.81      0.82      1380\n",
      "Entertainment       0.89      0.89      0.89      1384\n",
      "    Headlines       0.74      0.65      0.69      1420\n",
      "       Health       0.88      0.91      0.89       943\n",
      "      Science       0.89      0.90      0.90       902\n",
      "       Sports       0.91      0.95      0.93      1592\n",
      "   Technology       0.92      0.92      0.92      1351\n",
      "    Worldwide       0.72      0.78      0.75      1289\n",
      "\n",
      "     accuracy                           0.85     10261\n",
      "    macro avg       0.85      0.85      0.85     10261\n",
      " weighted avg       0.85      0.85      0.85     10261\n",
      "\n",
      "\n",
      "\n",
      "\n"
     ]
    }
   ],
   "source": [
    "X = df['Title']\n",
    "y = df['Category']\n",
    "X_train, X_test, y_train, y_test = train_test_split(X, y, test_size=0.2, random_state=42)\n",
    "\n",
    "# Liste des modèles à évaluer\n",
    "models = {\n",
    "    \"Logistic Regression\": LogisticRegression(),\n",
    "    \"Decision Tree\": DecisionTreeClassifier(),\n",
    "    \"Random Forest\": RandomForestClassifier(),\n",
    "    \"K-Nearest Neighbors\": KNeighborsClassifier(),\n",
    "    \"Naive Bayes\": MultinomialNB(),\n",
    "    \"Linear_model\": RidgeClassifier()\n",
    "}\n",
    "\n",
    "for name, model in models.items():\n",
    "    print(f\"Evaluating model: {name}\\n\" + \"-\" * 30)\n",
    "    \n",
    "    classifier = TextClassifier(model=model, vectorizer= CountVectorizer(max_features=5000, stop_words='english'))\n",
    "    classifier.train(X_train, y_train)\n",
    "    classifier.evaluate(X_test, y_test)\n",
    "    \n",
    "    print(\"\\n\\n\")"
   ]
  },
  {
   "attachments": {},
   "cell_type": "markdown",
   "metadata": {},
   "source": [
    "### Observation\n",
    "According to the results. We can clearly say that in CountVectorizer, the precision of Linear_model and Logistic Regression are the best result. However, the actual improvement is still too small, and I will look at TF-IDF for all models next"
   ]
  },
  {
   "attachments": {},
   "cell_type": "markdown",
   "metadata": {},
   "source": [
    "## TF-IDF"
   ]
  },
  {
   "cell_type": "code",
   "execution_count": 11,
   "metadata": {},
   "outputs": [
    {
     "name": "stdout",
     "output_type": "stream",
     "text": [
      "Evaluating model: Logistic Regression\n",
      "------------------------------\n"
     ]
    },
    {
     "name": "stderr",
     "output_type": "stream",
     "text": [
      "/Users/suying/miniconda3/envs/tensorflow/lib/python3.9/site-packages/sklearn/linear_model/_logistic.py:460: ConvergenceWarning: lbfgs failed to converge (status=1):\n",
      "STOP: TOTAL NO. of ITERATIONS REACHED LIMIT.\n",
      "\n",
      "Increase the number of iterations (max_iter) or scale the data as shown in:\n",
      "    https://scikit-learn.org/stable/modules/preprocessing.html\n",
      "Please also refer to the documentation for alternative solver options:\n",
      "    https://scikit-learn.org/stable/modules/linear_model.html#logistic-regression\n",
      "  n_iter_i = _check_optimize_result(\n"
     ]
    },
    {
     "name": "stdout",
     "output_type": "stream",
     "text": [
      "Accuracy: 0.8448494298801287\n",
      "               precision    recall  f1-score   support\n",
      "\n",
      "     Business       0.83      0.81      0.82      1380\n",
      "Entertainment       0.87      0.90      0.88      1384\n",
      "    Headlines       0.72      0.66      0.69      1420\n",
      "       Health       0.89      0.90      0.90       943\n",
      "      Science       0.91      0.89      0.90       902\n",
      "       Sports       0.92      0.94      0.93      1592\n",
      "   Technology       0.92      0.91      0.92      1351\n",
      "    Worldwide       0.71      0.77      0.74      1289\n",
      "\n",
      "     accuracy                           0.84     10261\n",
      "    macro avg       0.85      0.85      0.85     10261\n",
      " weighted avg       0.84      0.84      0.84     10261\n",
      "\n",
      "\n",
      "\n",
      "\n",
      "Evaluating model: Decision Tree\n",
      "------------------------------\n",
      "Accuracy: 0.741643114706169\n",
      "               precision    recall  f1-score   support\n",
      "\n",
      "     Business       0.75      0.72      0.74      1380\n",
      "Entertainment       0.78      0.79      0.79      1384\n",
      "    Headlines       0.54      0.56      0.55      1420\n",
      "       Health       0.82      0.85      0.83       943\n",
      "      Science       0.85      0.85      0.85       902\n",
      "       Sports       0.78      0.84      0.81      1592\n",
      "   Technology       0.88      0.84      0.86      1351\n",
      "    Worldwide       0.59      0.53      0.56      1289\n",
      "\n",
      "     accuracy                           0.74     10261\n",
      "    macro avg       0.75      0.75      0.75     10261\n",
      " weighted avg       0.74      0.74      0.74     10261\n",
      "\n",
      "\n",
      "\n",
      "\n",
      "Evaluating model: Random Forest\n",
      "------------------------------\n",
      "Accuracy: 0.8027482701491083\n",
      "               precision    recall  f1-score   support\n",
      "\n",
      "     Business       0.82      0.77      0.79      1380\n",
      "Entertainment       0.84      0.84      0.84      1384\n",
      "    Headlines       0.64      0.60      0.62      1420\n",
      "       Health       0.84      0.89      0.87       943\n",
      "      Science       0.88      0.88      0.88       902\n",
      "       Sports       0.85      0.92      0.88      1592\n",
      "   Technology       0.91      0.89      0.90      1351\n",
      "    Worldwide       0.66      0.66      0.66      1289\n",
      "\n",
      "     accuracy                           0.80     10261\n",
      "    macro avg       0.80      0.81      0.81     10261\n",
      " weighted avg       0.80      0.80      0.80     10261\n",
      "\n",
      "\n",
      "\n",
      "\n",
      "Evaluating model: K-Nearest Neighbors\n",
      "------------------------------\n",
      "Accuracy: 0.6193353474320241\n",
      "               precision    recall  f1-score   support\n",
      "\n",
      "     Business       0.90      0.56      0.69      1380\n",
      "Entertainment       0.58      0.75      0.65      1384\n",
      "    Headlines       0.76      0.27      0.40      1420\n",
      "       Health       0.96      0.48      0.64       943\n",
      "      Science       0.96      0.57      0.72       902\n",
      "       Sports       0.38      0.97      0.55      1592\n",
      "   Technology       0.95      0.73      0.83      1351\n",
      "    Worldwide       0.68      0.50      0.58      1289\n",
      "\n",
      "     accuracy                           0.62     10261\n",
      "    macro avg       0.77      0.61      0.63     10261\n",
      " weighted avg       0.75      0.62      0.62     10261\n",
      "\n",
      "\n",
      "\n",
      "\n",
      "Evaluating model: Naive Bayes\n",
      "------------------------------\n",
      "Accuracy: 0.8416333690673423\n",
      "               precision    recall  f1-score   support\n",
      "\n",
      "     Business       0.83      0.79      0.81      1380\n",
      "Entertainment       0.86      0.89      0.87      1384\n",
      "    Headlines       0.74      0.64      0.69      1420\n",
      "       Health       0.88      0.91      0.89       943\n",
      "      Science       0.89      0.90      0.89       902\n",
      "       Sports       0.92      0.94      0.93      1592\n",
      "   Technology       0.91      0.92      0.91      1351\n",
      "    Worldwide       0.72      0.78      0.75      1289\n",
      "\n",
      "     accuracy                           0.84     10261\n",
      "    macro avg       0.84      0.85      0.84     10261\n",
      " weighted avg       0.84      0.84      0.84     10261\n",
      "\n",
      "\n",
      "\n",
      "\n",
      "Evaluating model: Linear_model\n",
      "------------------------------\n",
      "Accuracy: 0.8499171620699737\n",
      "               precision    recall  f1-score   support\n",
      "\n",
      "     Business       0.83      0.81      0.82      1380\n",
      "Entertainment       0.88      0.90      0.89      1384\n",
      "    Headlines       0.75      0.65      0.69      1420\n",
      "       Health       0.88      0.92      0.90       943\n",
      "      Science       0.90      0.91      0.90       902\n",
      "       Sports       0.92      0.95      0.94      1592\n",
      "   Technology       0.93      0.92      0.92      1351\n",
      "    Worldwide       0.72      0.78      0.75      1289\n",
      "\n",
      "     accuracy                           0.85     10261\n",
      "    macro avg       0.85      0.85      0.85     10261\n",
      " weighted avg       0.85      0.85      0.85     10261\n",
      "\n",
      "\n",
      "\n",
      "\n"
     ]
    }
   ],
   "source": [
    "X = df['Title']\n",
    "y = df['Category']\n",
    "X_train, X_test, y_train, y_test = train_test_split(X, y, test_size=0.2, random_state=42)\n",
    "\n",
    "# Liste des modèles à évaluer\n",
    "models = {\n",
    "    \"Logistic Regression\": LogisticRegression(),\n",
    "    \"Decision Tree\": DecisionTreeClassifier(),\n",
    "    \"Random Forest\": RandomForestClassifier(),\n",
    "    \"K-Nearest Neighbors\": KNeighborsClassifier(),\n",
    "    \"Naive Bayes\": MultinomialNB(),\n",
    "    \"Linear_model\": RidgeClassifier()\n",
    "}\n",
    "\n",
    "\n",
    "for name, model in models.items():\n",
    "    print(f\"Evaluating model: {name}\\n\" + \"-\" * 30)\n",
    "    \n",
    "    classifier = TextClassifier(model=model, vectorizer = TfidfVectorizer(max_features=5000, stop_words='english'))\n",
    "    classifier.train(X_train, y_train)\n",
    "    classifier.evaluate(X_test, y_test)\n",
    "    \n",
    "    print(\"\\n\\n\")"
   ]
  },
  {
   "attachments": {},
   "cell_type": "markdown",
   "metadata": {},
   "source": [
    "### Observation\n",
    "According to the results. We can clearly say that in TF-IDF, the accuracy of logistic regression is the best result"
   ]
  },
  {
   "attachments": {},
   "cell_type": "markdown",
   "metadata": {},
   "source": [
    "Depending on the outcome of two different loops, we have two very close possibilities:\n",
    "- Logistic regression with TFIDF\n",
    "I'll focus on "
   ]
  },
  {
   "cell_type": "markdown",
   "metadata": {},
   "source": []
  },
  {
   "attachments": {},
   "cell_type": "markdown",
   "metadata": {},
   "source": [
    "## Class_weight"
   ]
  },
  {
   "cell_type": "code",
   "execution_count": 12,
   "metadata": {},
   "outputs": [
    {
     "name": "stdout",
     "output_type": "stream",
     "text": [
      "Accuracy: 0.8481629470811811\n",
      "               precision    recall  f1-score   support\n",
      "\n",
      "     Business       0.84      0.81      0.82      1380\n",
      "Entertainment       0.87      0.89      0.88      1384\n",
      "    Headlines       0.74      0.65      0.69      1420\n",
      "       Health       0.87      0.92      0.90       943\n",
      "      Science       0.88      0.93      0.91       902\n",
      "       Sports       0.93      0.94      0.93      1592\n",
      "   Technology       0.93      0.91      0.92      1351\n",
      "    Worldwide       0.72      0.78      0.75      1289\n",
      "\n",
      "     accuracy                           0.85     10261\n",
      "    macro avg       0.85      0.85      0.85     10261\n",
      " weighted avg       0.85      0.85      0.85     10261\n",
      "\n"
     ]
    }
   ],
   "source": [
    "X = df['Title']\n",
    "y = df['Category']\n",
    "X_train, X_test, y_train, y_test = train_test_split(X, y, test_size=0.2, random_state=42)\n",
    "\n",
    "classifier = TextClassifier(model=LogisticRegression(max_iter=1000, class_weight='balanced'), vectorizer=TfidfVectorizer(max_features=5000, stop_words='english'))\n",
    "classifier.train(X_train, y_train)\n",
    "classifier.evaluate(X_test, y_test)"
   ]
  },
  {
   "attachments": {},
   "cell_type": "markdown",
   "metadata": {},
   "source": [
    "### Observation\n",
    "\n",
    "After our first experiment, we can see that using class weights has a good effect on class 2 recalls. Even if the accuracy is reduced, it is still a good choice"
   ]
  },
  {
   "attachments": {},
   "cell_type": "markdown",
   "metadata": {},
   "source": [
    "## Param_grid"
   ]
  },
  {
   "cell_type": "code",
   "execution_count": 14,
   "metadata": {},
   "outputs": [
    {
     "name": "stderr",
     "output_type": "stream",
     "text": [
      "/Users/suying/miniconda3/envs/tensorflow/lib/python3.9/site-packages/sklearn/model_selection/_validation.py:425: FitFailedWarning: \n",
      "30 fits failed out of a total of 60.\n",
      "The score on these train-test partitions for these parameters will be set to nan.\n",
      "If these failures are not expected, you can try to debug them by setting error_score='raise'.\n",
      "\n",
      "Below are more details about the failures:\n",
      "--------------------------------------------------------------------------------\n",
      "30 fits failed with the following error:\n",
      "Traceback (most recent call last):\n",
      "  File \"/Users/suying/miniconda3/envs/tensorflow/lib/python3.9/site-packages/sklearn/model_selection/_validation.py\", line 729, in _fit_and_score\n",
      "    estimator.fit(X_train, y_train, **fit_params)\n",
      "  File \"/Users/suying/miniconda3/envs/tensorflow/lib/python3.9/site-packages/sklearn/base.py\", line 1152, in wrapper\n",
      "    return fit_method(estimator, *args, **kwargs)\n",
      "  File \"/Users/suying/miniconda3/envs/tensorflow/lib/python3.9/site-packages/sklearn/linear_model/_logistic.py\", line 1169, in fit\n",
      "    solver = _check_solver(self.solver, self.penalty, self.dual)\n",
      "  File \"/Users/suying/miniconda3/envs/tensorflow/lib/python3.9/site-packages/sklearn/linear_model/_logistic.py\", line 56, in _check_solver\n",
      "    raise ValueError(\n",
      "ValueError: Solver lbfgs supports only 'l2' or 'none' penalties, got l1 penalty.\n",
      "\n",
      "  warnings.warn(some_fits_failed_message, FitFailedWarning)\n",
      "/Users/suying/miniconda3/envs/tensorflow/lib/python3.9/site-packages/sklearn/model_selection/_search.py:979: UserWarning: One or more of the test scores are non-finite: [       nan 0.76574645        nan 0.77381161        nan 0.81018985\n",
      "        nan 0.84583714        nan 0.84115876        nan 0.81335738]\n",
      "  warnings.warn(\n"
     ]
    },
    {
     "name": "stdout",
     "output_type": "stream",
     "text": [
      "Best Parameters:  {'C': 1, 'penalty': 'l2'}\n",
      "Best Accuracy:  0.8458371356783563\n",
      "Accuracy: 0.8481629470811811\n",
      "               precision    recall  f1-score   support\n",
      "\n",
      "     Business       0.84      0.81      0.82      1380\n",
      "Entertainment       0.87      0.89      0.88      1384\n",
      "    Headlines       0.74      0.65      0.69      1420\n",
      "       Health       0.87      0.92      0.90       943\n",
      "      Science       0.88      0.93      0.91       902\n",
      "       Sports       0.93      0.94      0.93      1592\n",
      "   Technology       0.93      0.91      0.92      1351\n",
      "    Worldwide       0.72      0.78      0.75      1289\n",
      "\n",
      "     accuracy                           0.85     10261\n",
      "    macro avg       0.85      0.85      0.85     10261\n",
      " weighted avg       0.85      0.85      0.85     10261\n",
      "\n"
     ]
    }
   ],
   "source": [
    "text_classifier = TextClassifier(LogisticRegression(max_iter=1000, class_weight='balanced'), vectorizer=TfidfVectorizer(max_features=5000, stop_words='english'))\n",
    "\n",
    "text_classifier.train(X_train, y_train)\n",
    "\n",
    "param_grid = {\n",
    "    'C': [0.001, 0.01, 0.1, 1, 10, 100],  \n",
    "    'penalty': ['l1', 'l2'] \n",
    "}\n",
    "\n",
    "grid_search = GridSearchCV(text_classifier.model, param_grid, cv=5, scoring='accuracy')\n",
    "\n",
    "grid_search.fit(text_classifier.X_train_tf, y_train)\n",
    "\n",
    "print(\"Best Parameters: \", grid_search.best_params_)\n",
    "print(\"Best Accuracy: \", grid_search.best_score_)\n",
    "\n",
    "text_classifier.model = grid_search.best_estimator_\n",
    "text_classifier.evaluate(X_test, y_test)"
   ]
  },
  {
   "attachments": {},
   "cell_type": "markdown",
   "metadata": {},
   "source": [
    "### Observation\n",
    "From the results, it can be seen that the best result is the default result before, and there is no change in the result, so I will draw a learning curve to observe"
   ]
  },
  {
   "attachments": {},
   "cell_type": "markdown",
   "metadata": {},
   "source": [
    "## Learning Curve"
   ]
  },
  {
   "cell_type": "code",
   "execution_count": 15,
   "metadata": {},
   "outputs": [
    {
     "data": {
      "image/png": "[encoded data removed]",
      "text/plain": [
       "<Figure size 1000x600 with 1 Axes>"
      ]
     },
     "metadata": {},
     "output_type": "display_data"
    }
   ],
   "source": [
    "def plot_learning_curve(estimator, title, X, y, ylim=None, cv=None, n_jobs=None, train_sizes=np.linspace(0.1, 1.0, 10)):\n",
    "    plt.figure(figsize=(10, 6))\n",
    "    plt.title(title)\n",
    "    if ylim is not None:\n",
    "        plt.ylim(*ylim)\n",
    "    plt.xlabel(\"Training examples\")\n",
    "    plt.ylabel(\"Score\")\n",
    "    train_sizes, train_scores, test_scores = learning_curve(\n",
    "        estimator, X, y, cv=cv, n_jobs=n_jobs, train_sizes=train_sizes, scoring='accuracy')\n",
    "    train_scores_mean = np.mean(train_scores, axis=1)\n",
    "    train_scores_std = np.std(train_scores, axis=1)\n",
    "    test_scores_mean = np.mean(test_scores, axis=1)\n",
    "    test_scores_std = np.std(test_scores, axis=1)\n",
    "    plt.grid()\n",
    "\n",
    "    plt.fill_between(train_sizes, train_scores_mean - train_scores_std,\n",
    "                     train_scores_mean + train_scores_std, alpha=0.1,\n",
    "                     color=\"r\")\n",
    "    plt.fill_between(train_sizes, test_scores_mean - test_scores_std,\n",
    "                     test_scores_mean + test_scores_std, alpha=0.1, color=\"g\")\n",
    "    plt.plot(train_sizes, train_scores_mean, 'o-', color=\"r\",\n",
    "             label=\"Training score\")\n",
    "    plt.plot(train_sizes, test_scores_mean, 'o-', color=\"g\",\n",
    "             label=\"Cross-validation score\")\n",
    "\n",
    "    plt.legend(loc=\"best\")\n",
    "    return plt\n",
    "\n",
    "plot_learning_curve(text_classifier.model, \"Learning Curve\", text_classifier.X_train_tf, y_train, cv=5)\n",
    "plt.show()"
   ]
  },
  {
   "cell_type": "code",
   "execution_count": 19,
   "metadata": {},
   "outputs": [
    {
     "name": "stdout",
     "output_type": "stream",
     "text": [
      "Accuracy: 0.8481629470811811\n",
      "               precision    recall  f1-score   support\n",
      "\n",
      "     Business       0.84      0.81      0.82      1380\n",
      "Entertainment       0.87      0.89      0.88      1384\n",
      "    Headlines       0.74      0.65      0.69      1420\n",
      "       Health       0.87      0.92      0.90       943\n",
      "      Science       0.88      0.93      0.91       902\n",
      "       Sports       0.93      0.94      0.93      1592\n",
      "   Technology       0.93      0.91      0.92      1351\n",
      "    Worldwide       0.72      0.78      0.75      1289\n",
      "\n",
      "     accuracy                           0.85     10261\n",
      "    macro avg       0.85      0.85      0.85     10261\n",
      " weighted avg       0.85      0.85      0.85     10261\n",
      "\n"
     ]
    }
   ],
   "source": [
    "text_classifier = TextClassifier(LogisticRegression(max_iter=5000, class_weight='balanced'), vectorizer=TfidfVectorizer(max_features=5000, stop_words='english'))\n",
    "\n",
    "text_classifier.train(X_train, y_train)\n",
    "\n",
    "param_grid = {\n",
    "    'C': [ 1],  \n",
    "    'penalty': ['l2'] \n",
    "}\n",
    "\n",
    "grid_search = GridSearchCV(text_classifier.model, param_grid, cv=5, scoring='accuracy')\n",
    "\n",
    "grid_search.fit(text_classifier.X_train_tf, y_train)\n",
    "\n",
    "\n",
    "text_classifier.model = grid_search.best_estimator_\n",
    "text_classifier.evaluate(X_test, y_test)"
   ]
  },
  {
   "cell_type": "code",
   "execution_count": 21,
   "metadata": {},
   "outputs": [
    {
     "data": {
      "image/png": "[encoded data removed]",
      "text/plain": [
       "<Figure size 1000x600 with 1 Axes>"
      ]
     },
     "metadata": {},
     "output_type": "display_data"
    }
   ],
   "source": [
    "def plot_learning_curve(estimator, title, X, y, ylim=None, cv=None, n_jobs=None, train_sizes=np.linspace(0.1, 1.0, 5,10)):\n",
    "    plt.figure(figsize=(10, 6))\n",
    "    plt.title(title)\n",
    "    if ylim is not None:\n",
    "        plt.ylim(*ylim)\n",
    "    plt.xlabel(\"Training examples\")\n",
    "    plt.ylabel(\"Score\")\n",
    "    train_sizes, train_scores, test_scores = learning_curve(\n",
    "        estimator, X, y, cv=cv, n_jobs=n_jobs, train_sizes=train_sizes, scoring='accuracy')\n",
    "    train_scores_mean = np.mean(train_scores, axis=1)\n",
    "    train_scores_std = np.std(train_scores, axis=1)\n",
    "    test_scores_mean = np.mean(test_scores, axis=1)\n",
    "    test_scores_std = np.std(test_scores, axis=1)\n",
    "    plt.grid()\n",
    "\n",
    "    plt.fill_between(train_sizes, train_scores_mean - train_scores_std,\n",
    "                     train_scores_mean + train_scores_std, alpha=0.1,\n",
    "                     color=\"r\")\n",
    "    plt.fill_between(train_sizes, test_scores_mean - test_scores_std,\n",
    "                     test_scores_mean + test_scores_std, alpha=0.1, color=\"g\")\n",
    "    plt.plot(train_sizes, train_scores_mean, 'o-', color=\"r\",\n",
    "             label=\"Training score\")\n",
    "    plt.plot(train_sizes, test_scores_mean, 'o-', color=\"g\",\n",
    "             label=\"Cross-validation score\")\n",
    "\n",
    "    plt.legend(loc=\"best\")\n",
    "    return plt\n",
    "\n",
    "plot_learning_curve(text_classifier.model, \"Learning Curve\", text_classifier.X_train_tf, y_train, cv=5)\n",
    "plt.show()"
   ]
  },
  {
   "attachments": {},
   "cell_type": "markdown",
   "metadata": {},
   "source": [
    "### Observation\n",
    "The difference between these two curves is important. The results show that our model is obviously overfitting, and the amount of data reduces this problem. However, the improvement of the validation curve is very slow, and we can assume that the model can be improved by adding a lot of data, especially in class worldwide and headlines."
   ]
  }
 ],
 "metadata": {
  "kernelspec": {
   "display_name": "tensorflow",
   "language": "python",
   "name": "python3"
  },
  "language_info": {
   "codemirror_mode": {
    "name": "ipython",
    "version": 3
   },
   "file_extension": ".py",
   "mimetype": "text/x-python",
   "name": "python",
   "nbconvert_exporter": "python",
   "pygments_lexer": "ipython3",
   "version": "3.9.18"
  },
  "orig_nbformat": 4,
  "vscode": {
   "interpreter": {
    "hash": "13183fcfca524971767b33043e79e011573b03ad5b8adf77e0037844e8ba9b67"
   }
  }
 },
 "nbformat": 4,
 "nbformat_minor": 2
}
